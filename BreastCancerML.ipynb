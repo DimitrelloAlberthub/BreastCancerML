{
 "cells": [
  {
   "cell_type": "markdown",
   "id": "2d1b6378",
   "metadata": {},
   "source": [
    "В рамках данной лабораторной работы были реализованы следующие алгоритмы машинного обучения: \n",
    "+ Линейная регрессия;\n",
    "+ Логистическая регрессия;\n",
    "+ Метод опорных векторов;\n",
    "+ К близжайших соседей;\n",
    "+ Наивный байесовский классификатор;\n",
    "+ Рандомный лес;\n",
    "+ Дерево решений;\n",
    "\n",
    "\n",
    "Для каждой модели были полученны оценки метрик:\n",
    "+ Confusion Matrix, \n",
    "+ Accuracy, \n",
    "+ Recall, \n",
    "+ Precision, \n",
    "+ ROC_AUC curve;\n"
   ]
  },
  {
   "cell_type": "code",
   "execution_count": null,
   "id": "7c3ae320",
   "metadata": {},
   "outputs": [],
   "source": [
    "import numpy as np\n",
    "import pandas as pd\n",
    "import seaborn as sns\n",
    "import matplotlib.pyplot as plt\n",
    "import os\n",
    "plt.style.use('ggplot')"
   ]
  },
  {
   "cell_type": "code",
   "execution_count": null,
   "id": "9bdbc2ba",
   "metadata": {},
   "outputs": [],
   "source": [
    "# Считываем данные\n",
    "data = pd.read_csv('./Data/breast_cancer.csv')"
   ]
  },
  {
   "cell_type": "code",
   "execution_count": null,
   "id": "bedc5fa8",
   "metadata": {
    "scrolled": true
   },
   "outputs": [],
   "source": [
    "# Выводим таблицу\n",
    "data"
   ]
  },
  {
   "cell_type": "markdown",
   "id": "024f03da",
   "metadata": {},
   "source": [
    "Категориальные параметры:\n",
    "+ diagnosis\n",
    "\n",
    "Количественные параметры:\n",
    "\n",
    "+ radius_mean\n",
    "+ texture_mean \n",
    "+ perimeter_mean\n",
    "+ area_mean\tsmoothness_mean\n",
    "+ compactness_mean\n",
    "+ concavity_mean\n",
    "+ concave points_mean\n",
    "+ radius_worst\n",
    "+ texture_worst \n",
    "+ perimeter_worst\n",
    "+ area_worst \n",
    "+ smoothness_worst\n",
    "+ compactness_worst\n",
    "+ concavity_worst\n",
    "+ concave points_worst\n",
    "+ symmetry_worst\n",
    "+ fractal_dimension_worst"
   ]
  },
  {
   "cell_type": "code",
   "execution_count": null,
   "id": "2f692662",
   "metadata": {},
   "outputs": [],
   "source": [
    "# Количество столбцов и строк\n",
    "data.shape"
   ]
  },
  {
   "cell_type": "code",
   "execution_count": null,
   "id": "3d753abf",
   "metadata": {},
   "outputs": [],
   "source": [
    "# Выведем информацию по датафрейму включая тип и столбцы индекса, ненулевые значения и использование памяти.\n",
    "data.info()"
   ]
  },
  {
   "cell_type": "code",
   "execution_count": null,
   "id": "80c0dbcd",
   "metadata": {},
   "outputs": [],
   "source": [
    "# Подсчет уникальных значений\n",
    "data.diagnosis.value_counts()"
   ]
  },
  {
   "cell_type": "code",
   "execution_count": null,
   "id": "91ac7742",
   "metadata": {},
   "outputs": [],
   "source": [
    "# Вывод описательной статистики. все столбцы ввода включены в вывод.\n",
    "data.describe(include='all').T"
   ]
  },
  {
   "cell_type": "code",
   "execution_count": null,
   "id": "277eb2cb",
   "metadata": {},
   "outputs": [],
   "source": [
    "data.hist(bins=50,figsize=(20,15))\n",
    "# построение гитрограммы значений признаков\n",
    "plt.show();"
   ]
  },
  {
   "cell_type": "code",
   "execution_count": null,
   "id": "9e69a8f3",
   "metadata": {
    "scrolled": true
   },
   "outputs": [],
   "source": [
    "# вывод минимального и максимального значений\n",
    "print(\"radius_mean range:\", data.radius_mean.min(), data.radius_mean.max())\n",
    "print(\"Htexture_mean range:\", data.texture_mean.min(),data.texture_mean.max())\n",
    "print(\"perimeter_mean range:\", data.perimeter_mean.min(),data.perimeter_mean.max())\n",
    "print(\"area_mean range:\", data.area_mean.min(), data.area_mean.max())\n",
    "print(\"smoothness_mean range:\", data.smoothness_mean.min(), data.smoothness_mean.max())\n",
    "print(\"compactness_mean range:\", data.compactness_mean.min(), data.compactness_mean.max())"
   ]
  },
  {
   "cell_type": "code",
   "execution_count": null,
   "id": "b18adff4",
   "metadata": {},
   "outputs": [],
   "source": [
    "# замена\n",
    "data['diagnosis'] = data['diagnosis'].map({'M': 1, 'B': 0})\n",
    "data"
   ]
  },
  {
   "cell_type": "code",
   "execution_count": null,
   "id": "65fa0175",
   "metadata": {},
   "outputs": [],
   "source": [
    "# Устанавливаем seed\n",
    "np.random.seed(42)\n",
    "# Убираем столбец\n",
    "x = data.drop('diagnosis', axis=1)\n",
    "y = data['diagnosis']"
   ]
  },
  {
   "cell_type": "code",
   "execution_count": null,
   "id": "9d5abc32",
   "metadata": {},
   "outputs": [],
   "source": [
    "# построение кривой\n",
    "def plot_ROC_curve(y_true, y_predicted_probabilities):  \n",
    "    from sklearn.metrics import roc_curve\n",
    "    false_positive_rate, true_postitive_rate, _ = roc_curve(y_true,  y_predicted_probabilities)   \n",
    "    plt.plot(false_positive_rate, true_postitive_rate)\n",
    "    plt.ylabel('True Positive Rate')\n",
    "    plt.xlabel('False Positive Rate')\n",
    "    plt.show()"
   ]
  },
  {
   "cell_type": "markdown",
   "id": "c42f1e64",
   "metadata": {},
   "source": [
    "## Логистическая регрессия"
   ]
  },
  {
   "cell_type": "code",
   "execution_count": null,
   "id": "54f0135d",
   "metadata": {},
   "outputs": [],
   "source": [
    "from sklearn.model_selection import train_test_split\n",
    "from sklearn.linear_model import LogisticRegression\n",
    "from sklearn.metrics import accuracy_score,f1_score,confusion_matrix, classification_report\n",
    "# разбиваем данные\n",
    "x_train, x_test, y_train, y_test = train_test_split(x,y,test_size=0.2)\n",
    "model = LogisticRegression()\n",
    "# обучаем модель\n",
    "model.fit(x_train, y_train)\n",
    "# оцениваем точность логистической регрессии\n",
    "model.score(x_test, y_test)\n"
   ]
  },
  {
   "cell_type": "code",
   "execution_count": null,
   "id": "8ac5e917",
   "metadata": {},
   "outputs": [],
   "source": [
    "import pickle "
   ]
  },
  {
   "cell_type": "code",
   "execution_count": null,
   "id": "78beccf1",
   "metadata": {},
   "outputs": [],
   "source": [
    "# запись обученной модели в файл\n",
    "filename = 'lr.pkl'\n",
    "pickle.dump(model, open(filename, 'wb'))"
   ]
  },
  {
   "cell_type": "code",
   "execution_count": null,
   "id": "986a5845",
   "metadata": {},
   "outputs": [],
   "source": [
    "# Прогнозируем на основе обученной модели\n",
    "test_predictions = model.predict(x_test)"
   ]
  },
  {
   "cell_type": "code",
   "execution_count": null,
   "id": "1f6d85a0",
   "metadata": {},
   "outputs": [],
   "source": [
    "# построение кривой\n",
    "plot_ROC_curve(y_test,test_predictions)"
   ]
  },
  {
   "cell_type": "code",
   "execution_count": null,
   "id": "67c94236",
   "metadata": {},
   "outputs": [],
   "source": [
    "# получим матрицу ошибок\n",
    "cm = confusion_matrix(y_test, test_predictions)\n",
    "cm"
   ]
  },
  {
   "cell_type": "code",
   "execution_count": null,
   "id": "fc94a4d2",
   "metadata": {},
   "outputs": [],
   "source": [
    "import seaborn as sn\n",
    "# построим график матрицы ошибок\n",
    "plt.figure(figsize=(5,3))\n",
    "sn.heatmap(cm, annot=True)\n",
    "plt.xlabel('Predicted')\n",
    "plt.ylabel('Truth')"
   ]
  },
  {
   "cell_type": "code",
   "execution_count": null,
   "id": "ed929322",
   "metadata": {},
   "outputs": [],
   "source": [
    "# оцениваем точность линейной регрессии\n",
    "accuracy_score(y_test,test_predictions)"
   ]
  },
  {
   "cell_type": "code",
   "execution_count": null,
   "id": "1043d0d4",
   "metadata": {},
   "outputs": [],
   "source": [
    "# отобразим основные метрики классификации\n",
    "print(classification_report(y_test,test_predictions))"
   ]
  },
  {
   "cell_type": "markdown",
   "id": "b34c75a5",
   "metadata": {},
   "source": [
    "## Дерево решений"
   ]
  },
  {
   "cell_type": "code",
   "execution_count": null,
   "id": "a1fd76c5",
   "metadata": {},
   "outputs": [],
   "source": [
    "from sklearn.tree import DecisionTreeClassifier\n",
    "model = DecisionTreeClassifier(criterion = 'entropy', random_state = 0)\n",
    "# обучаем модель\n",
    "model.fit(x_train, y_train)\n"
   ]
  },
  {
   "cell_type": "code",
   "execution_count": null,
   "id": "b5de1d3f",
   "metadata": {},
   "outputs": [],
   "source": [
    "# запись обученной модели в файл\n",
    "filename = 'Td.pkl'\n",
    "pickle.dump(model, open(filename, 'wb'))"
   ]
  },
  {
   "cell_type": "code",
   "execution_count": null,
   "id": "e7530532",
   "metadata": {},
   "outputs": [],
   "source": [
    "# Прогнозируем на основе обученной модели\n",
    "test_predictions = model.predict(x_test)"
   ]
  },
  {
   "cell_type": "code",
   "execution_count": null,
   "id": "a275b584",
   "metadata": {},
   "outputs": [],
   "source": [
    "# построение кривой\n",
    "plot_ROC_curve(y_test,test_predictions)"
   ]
  },
  {
   "cell_type": "code",
   "execution_count": null,
   "id": "140ecf94",
   "metadata": {},
   "outputs": [],
   "source": [
    "# получим матрицу ошибок\n",
    "cm1 = confusion_matrix(y_test, test_predictions)\n",
    "cm1\n"
   ]
  },
  {
   "cell_type": "code",
   "execution_count": null,
   "id": "c791cd15",
   "metadata": {},
   "outputs": [],
   "source": [
    "# построим график матрицы ошибок\n",
    "plt.figure(figsize=(5,3))\n",
    "sn.heatmap(cm1, annot=True)\n",
    "plt.xlabel('Predicted')\n",
    "plt.ylabel('Truth')"
   ]
  },
  {
   "cell_type": "code",
   "execution_count": null,
   "id": "cdd7a363",
   "metadata": {},
   "outputs": [],
   "source": [
    "# оцениваем точность дерева решений\n",
    "accuracy_score(y_test,test_predictions)"
   ]
  },
  {
   "cell_type": "code",
   "execution_count": null,
   "id": "85bc4069",
   "metadata": {},
   "outputs": [],
   "source": [
    "# отобразим основные метрики классификации\n",
    "print(classification_report(y_test,test_predictions))"
   ]
  },
  {
   "cell_type": "markdown",
   "id": "63bd7b0f",
   "metadata": {},
   "source": [
    "## К близжайших соседей"
   ]
  },
  {
   "cell_type": "code",
   "execution_count": null,
   "id": "3bfb3986",
   "metadata": {},
   "outputs": [],
   "source": [
    "from sklearn.neighbors import KNeighborsClassifier \n",
    "knn = KNeighborsClassifier(n_neighbors=9)\n",
    "# обучаем модель\n",
    "knn.fit(x_train, y_train)"
   ]
  },
  {
   "cell_type": "code",
   "execution_count": null,
   "id": "81e185b6",
   "metadata": {},
   "outputs": [],
   "source": [
    "# запись обученной модели в файл\n",
    "filename = 'knn.pkl'\n",
    "pickle.dump(model, open(filename, 'wb'))"
   ]
  },
  {
   "cell_type": "code",
   "execution_count": null,
   "id": "2ec92dcd",
   "metadata": {},
   "outputs": [],
   "source": [
    "# Прогнозируем на основе обученной модели\n",
    "train_predictions = knn.predict(x_train)\n",
    "test_predictions = knn.predict(x_test)"
   ]
  },
  {
   "cell_type": "code",
   "execution_count": null,
   "id": "f3f347a3",
   "metadata": {},
   "outputs": [],
   "source": [
    "# построение кривой\n",
    "plot_ROC_curve(y_test,test_predictions)"
   ]
  },
  {
   "cell_type": "code",
   "execution_count": null,
   "id": "3c7c73b8",
   "metadata": {},
   "outputs": [],
   "source": [
    "# получим матрицу ошибок\n",
    "cm2 = confusion_matrix(y_test, test_predictions)\n",
    "cm2\n"
   ]
  },
  {
   "cell_type": "code",
   "execution_count": null,
   "id": "7102269c",
   "metadata": {},
   "outputs": [],
   "source": [
    "# Построение графика матрицы ошибок\n",
    "plt.figure(figsize=(5,3))\n",
    "sn.heatmap(cm2, annot=True)\n",
    "plt.xlabel('Predicted')\n",
    "plt.ylabel('Truth')\n"
   ]
  },
  {
   "cell_type": "code",
   "execution_count": null,
   "id": "716c58fe",
   "metadata": {},
   "outputs": [],
   "source": [
    "# оцениваем точность knn\n",
    "accuracy_score(y_test,test_predictions)"
   ]
  },
  {
   "cell_type": "code",
   "execution_count": null,
   "id": "bed5bb3a",
   "metadata": {},
   "outputs": [],
   "source": [
    "# отобразим основные метрики классификации\n",
    "print(classification_report(y_test,test_predictions))"
   ]
  },
  {
   "cell_type": "markdown",
   "id": "8b32706b",
   "metadata": {},
   "source": [
    "## Метод опорных векторов"
   ]
  },
  {
   "cell_type": "code",
   "execution_count": null,
   "id": "77fcfd37",
   "metadata": {},
   "outputs": [],
   "source": [
    "from sklearn import svm\n",
    "from sklearn.svm import SVC\n"
   ]
  },
  {
   "cell_type": "code",
   "execution_count": null,
   "id": "550759e3",
   "metadata": {},
   "outputs": [],
   "source": [
    "svm = SVC()"
   ]
  },
  {
   "cell_type": "code",
   "execution_count": null,
   "id": "51b1321b",
   "metadata": {},
   "outputs": [],
   "source": [
    "## обучаем модель\n",
    "svm.fit(x_train, y_train)"
   ]
  },
  {
   "cell_type": "code",
   "execution_count": null,
   "id": "980f61e9",
   "metadata": {},
   "outputs": [],
   "source": [
    "# запись обученной модели в файл\n",
    "filename = 'svc.pkl'\n",
    "pickle.dump(model, open(filename, 'wb'))"
   ]
  },
  {
   "cell_type": "code",
   "execution_count": null,
   "id": "84157cef",
   "metadata": {},
   "outputs": [],
   "source": [
    "# Прогнозируем на основе обученной модели\n",
    "test_predictions = svm.predict(x_test)"
   ]
  },
  {
   "cell_type": "code",
   "execution_count": null,
   "id": "20002d1a",
   "metadata": {},
   "outputs": [],
   "source": [
    "# построение кривой\n",
    "plot_ROC_curve(y_test,test_predictions)"
   ]
  },
  {
   "cell_type": "code",
   "execution_count": null,
   "id": "096e64d4",
   "metadata": {},
   "outputs": [],
   "source": [
    "# получим матрицу ошибок\n",
    "cm3= confusion_matrix(y_test, test_predictions)\n",
    "cm3\n"
   ]
  },
  {
   "cell_type": "code",
   "execution_count": null,
   "id": "81918867",
   "metadata": {},
   "outputs": [],
   "source": [
    "# построим график матрицы ошибок\n",
    "plt.figure(figsize=(5,3))\n",
    "sn.heatmap(cm3, annot=True)\n",
    "plt.xlabel('Predicted')\n",
    "plt.ylabel('Truth')"
   ]
  },
  {
   "cell_type": "code",
   "execution_count": null,
   "id": "56923ac3",
   "metadata": {},
   "outputs": [],
   "source": [
    "# оцениваем точность метода опорных векторов\n",
    "accuracy_score(y_test,test_predictions)"
   ]
  },
  {
   "cell_type": "code",
   "execution_count": null,
   "id": "2bac38b2",
   "metadata": {},
   "outputs": [],
   "source": [
    "# отобразим основные метрики классификации\n",
    "print(classification_report(y_test,test_predictions))"
   ]
  },
  {
   "cell_type": "markdown",
   "id": "778c68f9",
   "metadata": {},
   "source": [
    "## Рандомный лес"
   ]
  },
  {
   "cell_type": "code",
   "execution_count": null,
   "id": "8020077d",
   "metadata": {},
   "outputs": [],
   "source": [
    "from sklearn.ensemble import RandomForestClassifier"
   ]
  },
  {
   "cell_type": "code",
   "execution_count": null,
   "id": "f2bb239e",
   "metadata": {},
   "outputs": [],
   "source": [
    "# установка классификатора рандомного леса\n",
    "rf = RandomForestClassifier(n_estimators=1000, max_depth=4, random_state=99)\n",
    "# обучаем модель\n",
    "rf.fit(x_train, y_train)"
   ]
  },
  {
   "cell_type": "code",
   "execution_count": null,
   "id": "a30cdd1e",
   "metadata": {},
   "outputs": [],
   "source": [
    "# Прогнозируем на основе обученной модели\n",
    "test_predictions = rf.predict(x_test)"
   ]
  },
  {
   "cell_type": "code",
   "execution_count": null,
   "id": "4c5a6e34",
   "metadata": {},
   "outputs": [],
   "source": [
    "# построение кривой\n",
    "plot_ROC_curve(y_test,test_predictions)"
   ]
  },
  {
   "cell_type": "code",
   "execution_count": null,
   "id": "384fe9b5",
   "metadata": {},
   "outputs": [],
   "source": [
    "# получим матрицу ошибок\n",
    "cm4= confusion_matrix(y_test, test_predictions)\n",
    "cm4"
   ]
  },
  {
   "cell_type": "code",
   "execution_count": null,
   "id": "dc2debfd",
   "metadata": {},
   "outputs": [],
   "source": [
    "# Построение графика матрицы ошибок\n",
    "plt.figure(figsize=(5,3))\n",
    "sn.heatmap(cm4, annot=True)\n",
    "plt.xlabel('Predicted')\n",
    "plt.ylabel('Truth')"
   ]
  },
  {
   "cell_type": "code",
   "execution_count": null,
   "id": "779bc566",
   "metadata": {},
   "outputs": [],
   "source": [
    "# оцениваем точность модели\n",
    "accuracy_score(y_test,test_predictions)"
   ]
  },
  {
   "cell_type": "code",
   "execution_count": null,
   "id": "aa29a4ea",
   "metadata": {},
   "outputs": [],
   "source": [
    "# отобразим основные метрики классификации\n",
    "print(classification_report(y_test,test_predictions))"
   ]
  },
  {
   "cell_type": "markdown",
   "id": "579f3f19",
   "metadata": {},
   "source": [
    "## Наивный байесовский классификатор"
   ]
  },
  {
   "cell_type": "code",
   "execution_count": null,
   "id": "0b446da4",
   "metadata": {},
   "outputs": [],
   "source": [
    "from sklearn.naive_bayes import GaussianNB"
   ]
  },
  {
   "cell_type": "code",
   "execution_count": null,
   "id": "7b76358a",
   "metadata": {},
   "outputs": [],
   "source": [
    "model = GaussianNB()\n",
    "# обучение модели\n",
    "model.fit(x_train, y_train)"
   ]
  },
  {
   "cell_type": "code",
   "execution_count": null,
   "id": "db011ab1",
   "metadata": {},
   "outputs": [],
   "source": [
    "# запись обученной модели в файл\n",
    "filename = 'gauss.pkl'\n",
    "pickle.dump(model, open(filename, 'wb'))"
   ]
  },
  {
   "cell_type": "code",
   "execution_count": null,
   "id": "784baa85",
   "metadata": {},
   "outputs": [],
   "source": [
    "# Прогнозируем на основе обученной модели\n",
    "test_predictions = model.predict(x_test)"
   ]
  },
  {
   "cell_type": "code",
   "execution_count": null,
   "id": "0e9382a9",
   "metadata": {},
   "outputs": [],
   "source": [
    "# построение кривой\n",
    "plot_ROC_curve(y_test,test_predictions)"
   ]
  },
  {
   "cell_type": "code",
   "execution_count": null,
   "id": "9794f76d",
   "metadata": {},
   "outputs": [],
   "source": [
    "# получим матрицу ошибок\n",
    "cm5= confusion_matrix(y_test, test_predictions)\n",
    "cm5"
   ]
  },
  {
   "cell_type": "code",
   "execution_count": null,
   "id": "2338eee6",
   "metadata": {},
   "outputs": [],
   "source": [
    "# Построение графика матрицы ошибок\n",
    "plt.figure(figsize=(5,3))\n",
    "sn.heatmap(cm5, annot=True)\n",
    "plt.xlabel('Predicted')\n",
    "plt.ylabel('Truth')"
   ]
  },
  {
   "cell_type": "code",
   "execution_count": null,
   "id": "9e1fc60b",
   "metadata": {},
   "outputs": [],
   "source": [
    "# оценим точность\n",
    "accuracy_score(y_test,test_predictions)"
   ]
  },
  {
   "cell_type": "code",
   "execution_count": null,
   "id": "1c17b743",
   "metadata": {},
   "outputs": [],
   "source": [
    "# отобразим основные метрики классификации\n",
    "print(classification_report(y_test,test_predictions))"
   ]
  },
  {
   "cell_type": "markdown",
   "id": "05f3c252",
   "metadata": {},
   "source": [
    "## Точность моделей\n",
    "\n",
    "Логистическая регрессия = 0.6228070175438597\n",
    "\n",
    "Дерево решений = 0.9473684210526315\n",
    "\n",
    "Рандомный лес = 0.9649122807017544\n",
    "\n",
    "KNN = 0.7192982456140351\n",
    "\n",
    "Метод опорных векторов = 0.6228070175438597\n",
    "\n",
    "Наивный байесовский классификатор = 0.6140350877192983"
   ]
  }
 ],
 "metadata": {
  "kernelspec": {
   "display_name": "Python 3 (ipykernel)",
   "language": "python",
   "name": "python3"
  },
  "language_info": {
   "codemirror_mode": {
    "name": "ipython",
    "version": 3
   },
   "file_extension": ".py",
   "mimetype": "text/x-python",
   "name": "python",
   "nbconvert_exporter": "python",
   "pygments_lexer": "ipython3",
   "version": "3.9.12"
  }
 },
 "nbformat": 4,
 "nbformat_minor": 5
}
